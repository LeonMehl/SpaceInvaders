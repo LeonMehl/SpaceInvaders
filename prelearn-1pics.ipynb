{
 "cells": [
  {
   "cell_type": "code",
   "execution_count": 1,
   "metadata": {},
   "outputs": [
    {
     "name": "stderr",
     "output_type": "stream",
     "text": [
      "Using TensorFlow backend.\n"
     ]
    }
   ],
   "source": [
    "#https://keras.io/examples/rl/deep_q_network_breakout/#train\n",
    "import warnings\n",
    "warnings.simplefilter(action='ignore', category=FutureWarning)\n",
    "from keras.models import Model, load_model\n",
    "from keras.models import Sequential\n",
    "from keras.layers import Input, BatchNormalization, Activation, Dense, Dropout, Flatten, ZeroPadding2D, UpSampling2D\n",
    "from keras.layers.core import Lambda, RepeatVector, Reshape\n",
    "from keras.layers.convolutional import Conv2D, Conv2DTranspose\n",
    "from keras.layers.pooling import MaxPooling2D, GlobalMaxPool2D\n",
    "from keras.layers.merge import concatenate, add\n",
    "from keras.callbacks import EarlyStopping, ModelCheckpoint, ReduceLROnPlateau\n",
    "from keras.optimizers import SGD, Adam\n",
    "from keras.preprocessing.image import ImageDataGenerator, array_to_img, img_to_array, load_img\n",
    "from keras.losses import Huber\n",
    "from keras.regularizers import l2\n",
    "from keras import initializers\n",
    "import tensorflow as tf\n",
    "from tensorflow.keras import layers\n",
    "from tensorflow import keras"
   ]
  },
  {
   "cell_type": "code",
   "execution_count": 2,
   "metadata": {},
   "outputs": [],
   "source": [
    "import os.path\n",
    "import pandas as pd \n",
    "import random\n",
    "import cv2\n",
    "import numpy as np\n",
    "import matplotlib.pyplot as plt"
   ]
  },
  {
   "cell_type": "code",
   "execution_count": 26,
   "metadata": {},
   "outputs": [],
   "source": [
    "dim = (50,50) \n",
    "pathname = r\"C:\\Users\\User\\Documents\\DeepLearning\\Reinforcement\"\n",
    "datadirname = \"data\"\n",
    "testdirname = \"test\"\n",
    "validdirname = \"valid\"\n",
    "modeldirname = \"model\"\n",
    "datacsvname = \"data.csv\"\n",
    "modeljsonname=\"model-regr.json\"\n",
    "modelweightname=\"model-regr.h5\"\n",
    "\n",
    "\n",
    "MAXREWARD = 1.0\n",
    "PENALTY = -1.0\n",
    "MOVEPENALTY = 0.0\n",
    "\n",
    "MAXREWARD_OVER =1.0\n",
    "PENALTY_OVER = -1.0\n",
    "MOVEPENALTY_OVER = 0.0\n",
    "\n",
    "MAXREWARD_OVER = 1.0\n",
    "PENALTY_OVER = -1.0\n",
    "MOVEPENALTY_OVER = 0.0\n",
    "\n",
    "DISCOUNT = 0.99\n",
    "\n",
    "\n",
    "actionstonum = {\"RIGHT\": 0,\n",
    "           \"LEFT\": 1,\n",
    "           \"UP\" : 2,\n",
    "           \"DOWN\" : 3,\n",
    "          }\n",
    "numtoactions = {0: \"RIGHT\",\n",
    "           1: \"LEFT\",\n",
    "           2: \"UP\",\n",
    "           3: \"DOWN\",\n",
    "          }"
   ]
  },
  {
   "cell_type": "code",
   "execution_count": 4,
   "metadata": {},
   "outputs": [],
   "source": [
    "def create_q_model():\n",
    "    # Network defined by the Deepmind paper\n",
    "    inputs = layers.Input(shape=(dim[0], dim[1], 3,))\n",
    "\n",
    "    # Convolutions on the frames on the screen\n",
    "    layer1 = layers.Conv2D(32, 8, strides=4, activation=\"relu\")(inputs)\n",
    "    layer2 = layers.Conv2D(64, 4, strides=2, activation=\"relu\")(layer1)\n",
    "    layer3 = layers.Conv2D(64, 3, strides=1, activation=\"relu\")(layer2)\n",
    "\n",
    "    layer4 = layers.Flatten()(layer3)\n",
    "\n",
    "    layer5 = layers.Dense(512, activation=\"relu\")(layer4)\n",
    "    action = layers.Dense(4, activation=\"linear\")(layer5)\n",
    "\n",
    "    return keras.Model(inputs=inputs, outputs=action)\n",
    "\n",
    "# The first model makes the predictions for Q-values which are used to\n",
    "# make a action.\n",
    "model = create_q_model()\n",
    "# Build a target model for the prediction of future rewards.\n",
    "# The weights of a target model get updated every 10000 steps thus when the\n",
    "# loss between the Q-values is calculated the target Q-value is stable.\n",
    "model_target = create_q_model()"
   ]
  },
  {
   "cell_type": "code",
   "execution_count": null,
   "metadata": {},
   "outputs": [],
   "source": []
  },
  {
   "cell_type": "code",
   "execution_count": null,
   "metadata": {},
   "outputs": [],
   "source": []
  },
  {
   "cell_type": "code",
   "execution_count": 22,
   "metadata": {},
   "outputs": [
    {
     "name": "stdout",
     "output_type": "stream",
     "text": [
      "Model: \"model\"\n",
      "_________________________________________________________________\n",
      "Layer (type)                 Output Shape              Param #   \n",
      "=================================================================\n",
      "input_1 (InputLayer)         [(None, 50, 50, 3)]       0         \n",
      "_________________________________________________________________\n",
      "conv2d (Conv2D)              (None, 11, 11, 32)        6176      \n",
      "_________________________________________________________________\n",
      "conv2d_1 (Conv2D)            (None, 4, 4, 64)          32832     \n",
      "_________________________________________________________________\n",
      "conv2d_2 (Conv2D)            (None, 2, 2, 64)          36928     \n",
      "_________________________________________________________________\n",
      "flatten (Flatten)            (None, 256)               0         \n",
      "_________________________________________________________________\n",
      "dense (Dense)                (None, 512)               131584    \n",
      "_________________________________________________________________\n",
      "dense_1 (Dense)              (None, 4)                 2052      \n",
      "=================================================================\n",
      "Total params: 209,572\n",
      "Trainable params: 209,572\n",
      "Non-trainable params: 0\n",
      "_________________________________________________________________\n"
     ]
    }
   ],
   "source": [
    "opt = keras.optimizers.Adam(learning_rate=3.0e-4, clipnorm=1.0)\n",
    "# or mean_squared_logarithmic_error ?\n",
    "# or mean_squared_error\n",
    "model.compile(loss=Huber(),optimizer=opt, metrics=['accuracy'])\n",
    "model.summary()"
   ]
  },
  {
   "cell_type": "code",
   "execution_count": 6,
   "metadata": {},
   "outputs": [],
   "source": [
    "callbacks = [\n",
    "    EarlyStopping(patience=10, verbose=1),\n",
    "    ReduceLROnPlateau(factor=0.1, patience=3, min_lr=0.00001, verbose=1),\n",
    "    ModelCheckpoint(os.path.join(pathname, modeldirname,modelweightname), verbose=1, save_best_only=True, save_weights_only=True)\n",
    "]"
   ]
  },
  {
   "cell_type": "code",
   "execution_count": 42,
   "metadata": {},
   "outputs": [],
   "source": [
    "def load_replay_memory(pathname = pathname, datadirname = datadirname, datacsvname = datacsvname):\n",
    "\n",
    "    shufflelist = []\n",
    "    \n",
    "    assert os.path.isfile(os.path.join(pathname, datadirname,datacsvname)) == True\n",
    "\n",
    "    f = open(os.path.join(os.path.join(pathname, datadirname,datacsvname)), \"r\")\n",
    "\n",
    "    df = pd.read_csv(f, index_col = 0) \n",
    "\n",
    "    for index, row in df.iterrows():\n",
    "\n",
    "        currentpicname = row[\"currentstate\"]\n",
    "        action = actionstonum[row[\"action\"]]\n",
    "        reward = row[\"reward\"]\n",
    "        nextpicname = row[\"nextstate\"]\n",
    "        terminated = row[\"terminated\"]\n",
    "        \n",
    "        sxpos = row[\"sxpos\"]\n",
    "        sypos = row[\"sypos\"]\n",
    "        fxpos = row[\"fxpos\"]\n",
    "        fypos = row[\"fypos\"]\n",
    "\n",
    "\n",
    "        assert os.path.isfile(os.path.join(pathname, datadirname,currentpicname)) == True\n",
    "        assert (action < 5 and action >= 0)\n",
    "        assert isinstance(reward,int) or isinstance(reward, float)\n",
    "        assert os.path.isfile(os.path.join(pathname, datadirname,nextpicname)) == True\n",
    "\n",
    "        \n",
    "        if reward != PENALTY:\n",
    "            assert sxpos <= 200 and sxpos >= 0\n",
    "            assert sypos <= 200 and sypos >= 0\n",
    "            assert fxpos <= 200 and fxpos >= 0\n",
    "            assert fypos <= 200 and fypos >= 0\n",
    "            shufflelist.append([currentpicname,action,reward,nextpicname, terminated, sxpos, sypos, fxpos, fypos])\n",
    "\n",
    "    random.shuffle(shufflelist)\n",
    "\n",
    "    f.close()\n",
    "\n",
    "    return shufflelist"
   ]
  },
  {
   "cell_type": "code",
   "execution_count": null,
   "metadata": {},
   "outputs": [],
   "source": []
  },
  {
   "cell_type": "code",
   "execution_count": null,
   "metadata": {},
   "outputs": [],
   "source": []
  },
  {
   "cell_type": "code",
   "execution_count": null,
   "metadata": {},
   "outputs": [],
   "source": []
  },
  {
   "cell_type": "code",
   "execution_count": 11,
   "metadata": {},
   "outputs": [],
   "source": [
    "def generatebatchdata(batchsize):\n",
    "    shufflelist = []\n",
    "    shufflelist = load_replay_memory()\n",
    "    print(f\"length of shufflelist is {len(shufflelist)}\")\n",
    "\n",
    "    while True:\n",
    "        batchstart = 0\n",
    "        batchend = batchsize    \n",
    "        \n",
    "        while batchstart < len(shufflelist):\n",
    "            \n",
    "            imagelist = []\n",
    "            targetlist = []\n",
    "            \n",
    "            limit = min(batchend, len(shufflelist))\n",
    "\n",
    "            for i in range(batchstart, limit):\n",
    "\n",
    "                filename = os.path.join(pathname, datadirname, shufflelist[i][3])\n",
    "                imagelist.append(cv2.imread(filename,cv2.IMREAD_COLOR))\n",
    "                targetlist.append([shufflelist[i][5], shufflelist[i][6], shufflelist[i][7], shufflelist[i][8]])\n",
    "                \n",
    "            \n",
    "            traindata = np.array(imagelist, dtype=np.float32) / 255.0\n",
    "            targetlist = np.array(targetlist, dtype=np.float32)\n",
    "    \n",
    "            yield (traindata,targetlist)    \n",
    "\n",
    "            batchstart += batchsize   \n",
    "            batchend += batchsize"
   ]
  },
  {
   "cell_type": "code",
   "execution_count": 12,
   "metadata": {},
   "outputs": [],
   "source": [
    "generator_train = generatebatchdata(20)\n",
    "#generator_valid = generatebatchdata(2, os.path.join(pathname, validdirname), datacsvname)"
   ]
  },
  {
   "cell_type": "code",
   "execution_count": 24,
   "metadata": {},
   "outputs": [
    {
     "name": "stdout",
     "output_type": "stream",
     "text": [
      "Epoch 1/4\n",
      "1400/1400 [==============================] - 19s 14ms/step - loss: 6.1357 - accuracy: 0.8626\n",
      "Epoch 2/4\n",
      "1400/1400 [==============================] - 19s 14ms/step - loss: 6.0814 - accuracy: 0.8627\n",
      "Epoch 3/4\n",
      "1400/1400 [==============================] - 19s 14ms/step - loss: 6.0431 - accuracy: 0.8631\n",
      "Epoch 4/4\n",
      "1400/1400 [==============================] - 19s 14ms/step - loss: 5.9488 - accuracy: 0.8634\n"
     ]
    },
    {
     "data": {
      "text/plain": [
       "<tensorflow.python.keras.callbacks.History at 0x1c1750cba20>"
      ]
     },
     "execution_count": 24,
     "metadata": {},
     "output_type": "execute_result"
    }
   ],
   "source": [
    "#model.fit_generator(generator_train,steps_per_epoch=700, epochs=10, callbacks=callbacks, validation_data=generator_valid, validation_steps=150)\n",
    "model.fit_generator(generator_train,steps_per_epoch=1400, epochs=4)"
   ]
  },
  {
   "cell_type": "code",
   "execution_count": null,
   "metadata": {},
   "outputs": [],
   "source": []
  },
  {
   "cell_type": "code",
   "execution_count": 25,
   "metadata": {},
   "outputs": [],
   "source": [
    "model_json = model.to_json()\n",
    "with open(os.path.join(pathname, modeldirname,modeljsonname), \"w\") as json_file:\n",
    "    json_file.write(model_json)\n",
    "\n",
    "model.save_weights(os.path.join(pathname, modeldirname,modelweightname))"
   ]
  },
  {
   "cell_type": "code",
   "execution_count": 13,
   "metadata": {},
   "outputs": [
    {
     "name": "stdout",
     "output_type": "stream",
     "text": [
      "Model: \"model_1\"\n",
      "_________________________________________________________________\n",
      "Layer (type)                 Output Shape              Param #   \n",
      "=================================================================\n",
      "input_1 (InputLayer)         (None, 128, 128, 3)       0         \n",
      "_________________________________________________________________\n",
      "zero_padding2d_1 (ZeroPaddin (None, 130, 130, 3)       0         \n",
      "_________________________________________________________________\n",
      "conv2d_1 (Conv2D)            (None, 128, 128, 64)      1792      \n",
      "_________________________________________________________________\n",
      "activation_1 (Activation)    (None, 128, 128, 64)      0         \n",
      "_________________________________________________________________\n",
      "max_pooling2d_1 (MaxPooling2 (None, 64, 64, 64)        0         \n",
      "_________________________________________________________________\n",
      "dropout_1 (Dropout)          (None, 64, 64, 64)        0         \n",
      "_________________________________________________________________\n",
      "zero_padding2d_2 (ZeroPaddin (None, 66, 66, 64)        0         \n",
      "_________________________________________________________________\n",
      "conv2d_2 (Conv2D)            (None, 64, 64, 128)       73856     \n",
      "_________________________________________________________________\n",
      "activation_2 (Activation)    (None, 64, 64, 128)       0         \n",
      "_________________________________________________________________\n",
      "max_pooling2d_2 (MaxPooling2 (None, 32, 32, 128)       0         \n",
      "_________________________________________________________________\n",
      "dropout_2 (Dropout)          (None, 32, 32, 128)       0         \n",
      "_________________________________________________________________\n",
      "flatten_1 (Flatten)          (None, 131072)            0         \n",
      "_________________________________________________________________\n",
      "dense_1 (Dense)              (None, 256)               33554688  \n",
      "_________________________________________________________________\n",
      "dropout_3 (Dropout)          (None, 256)               0         \n",
      "_________________________________________________________________\n",
      "dense_2 (Dense)              (None, 4)                 1028      \n",
      "_________________________________________________________________\n",
      "activation_3 (Activation)    (None, 4)                 0         \n",
      "=================================================================\n",
      "Total params: 33,631,364\n",
      "Trainable params: 33,631,364\n",
      "Non-trainable params: 0\n",
      "_________________________________________________________________\n"
     ]
    }
   ],
   "source": [
    "model.load_weights(os.path.join(pathname, modeldirname,modelweightname))\n",
    "model.summary()"
   ]
  },
  {
   "cell_type": "code",
   "execution_count": 118,
   "metadata": {},
   "outputs": [
    {
     "name": "stdout",
     "output_type": "stream",
     "text": [
      "(50, 50, 3)\n"
     ]
    }
   ],
   "source": [
    "imagetestlist = []\n",
    "\n",
    "imagetestnames = os.listdir(os.path.join(pathname, testdirname))\n",
    "imagetestnames.sort()\n",
    "\n",
    "for imagename in imagetestnames:\n",
    "    if imagename.endswith(\".png\"):\n",
    "        imagetestlist.append(cv2.imread(os.path.join(pathname, testdirname, imagename),cv2.IMREAD_COLOR ))\n",
    "        \n",
    "imagetestlist = np.array(imagetestlist, dtype=np.float32)/255.0\n",
    "\n",
    "print(imagetestlist[0].shape)"
   ]
  },
  {
   "cell_type": "code",
   "execution_count": 46,
   "metadata": {},
   "outputs": [
    {
     "data": {
      "text/plain": [
       "261"
      ]
     },
     "execution_count": 46,
     "metadata": {},
     "output_type": "execute_result"
    }
   ],
   "source": [
    "#testlist = []\n",
    "#testlist =  load_replay_memory(pathname, testdirname, datacsvname)\n",
    "#len(testlist)"
   ]
  },
  {
   "cell_type": "code",
   "execution_count": null,
   "metadata": {},
   "outputs": [],
   "source": [
    "#imagetestlist = []\n",
    "#imagetestdata = []\n",
    "#for item, (cs, a, rw, fs, term, px, py, fx, fy) in enumerate(testlist):\n",
    "    \n",
    "    "
   ]
  },
  {
   "cell_type": "code",
   "execution_count": 119,
   "metadata": {},
   "outputs": [
    {
     "name": "stdout",
     "output_type": "stream",
     "text": [
      "\r",
      "532/1 [========================================================================================================================================================================================================================================================================================================================================================================================================================================================================================================================================================================================================================================================================================================================================================================================================================================================================================================================================================================================================================================================================================================================================================================================================================================================================================================================================================================================================================================================================================================================================================================================================================================================================================================================================================================================================================================================================================================================================================================================================================================================================================================================================================================================================================================================================================================================================================================================================================================================================================================================================================================================================================================================================================================================================================================================================================================================================================================================================================================================================================================================================================================================================================================================================================================================================================================================================================================================================================================================================================================================================================================================================================================================================================================================================================================================================================================================================================================================================================================================================================================================================================================================================================================================================================================================================================================================================================================================================================================================================================================================================================================================================================================================================================================================================================================================================================================================================================================================================================================================================================================================================================================================================================================================================================================================================================================================================================================================================================================================================================================================================================================================================================================================================================================================================================================================================================================================================================================================================================================================================================================================================================================================================================================================================================================================================================================================================================================================================================================================================================================================================================================================================================================================================================================================================================================================================================================================================================================================================================================================================================================================================================================================================================================================================================================================================================================================================================================================================================================================================================================================================================================================================================================================================================================================================================================================================================================================================================================================================================================================================================================================================================================================================================================================================================================================================================================================================================================================================================================================================================================================================================================================================================================================================================================================================================================================================================================================================================================================================================================================================================================================================================================================================================================================================================================================================================================================================================================================================================================================================================================================================================================================================================================================================================================================================================================================================================================================================================================================================================================================================================================================================================================================================================================================================================================================================================================================================================================================================================================================================================================================================================================================================================================================================================================================================================================================================================================================================================================================================================================================================================================================================================================================================================================================================================================================================================================================================================================================================================================================================================================================================================================================================================================================================================================================================================================================================================================================================================================================================================================================================================================================================================================================================================================================================================================================================================================================================================================================================================================================================================================================================================================================================================================================================================================================================================================================================================================================================================================================================================================================================================================================================================================================================================================================================================================================================================================================================================================================================================================================================================================================================================================================================================================================================================================================================================================================================================================================================================================================================================================================================================================================================================================================================================================================================================================================================================================================================================================================================================================================================================================================================================================================================================================================================================================================================================================================================================================================================================================================================================================================================================================================================================================================================================================================================================================================================================================================================================================================================================================================================================================================================================================================================================================================================================================================================================================================================================================================================================================================================================================================================================================================================================================================================================================================================================================================================================================================================================================================================================================================================================================================================================================================================================] - 0s 763us/sample\n"
     ]
    }
   ],
   "source": [
    "predictionslist = model.predict(imagetestlist, batch_size=1, verbose=1)"
   ]
  },
  {
   "cell_type": "code",
   "execution_count": 120,
   "metadata": {},
   "outputs": [],
   "source": [
    "imagetestlist = np.array(imagetestlist, dtype=np.int)\n",
    "imagetestlist = imagetestlist*255"
   ]
  },
  {
   "cell_type": "code",
   "execution_count": 127,
   "metadata": {},
   "outputs": [
    {
     "name": "stdout",
     "output_type": "stream",
     "text": [
      "[23. 41. 33. 27.]\n"
     ]
    },
    {
     "data": {
      "text/plain": [
       "<matplotlib.image.AxesImage at 0x1c1c8028c50>"
      ]
     },
     "execution_count": 127,
     "metadata": {},
     "output_type": "execute_result"
    },
    {
     "data": {
      "image/png": "[encoded data removed]",
      "text/plain": [
       "<Figure size 432x288 with 1 Axes>"
      ]
     },
     "metadata": {
      "needs_background": "light"
     },
     "output_type": "display_data"
    }
   ],
   "source": [
    "#'def showpic(i):\n",
    "ind = 99\n",
    "\n",
    "\n",
    "print(predictionslist[ind]//4)\n",
    "\n",
    "\n",
    "\n",
    "new = cv2.circle(imagetestlist[ind], (int(predictionslist[ind][0]//4), int(predictionslist[ind][1]//4)), 1, (100,0,100), 1)\n",
    "new = cv2.circle(new, (int(predictionslist[ind][2]//4), int(predictionslist[ind][3]//4)), 1, (100,100,100), 1)\n",
    "\n",
    "plt.imshow(new)"
   ]
  },
  {
   "cell_type": "code",
   "execution_count": 69,
   "metadata": {},
   "outputs": [
    {
     "name": "stdout",
     "output_type": "stream",
     "text": [
      "['current_1_2.png']\n"
     ]
    }
   ],
   "source": [
    "s = \"current_1_2.png\"\n",
    "print(str.split(s))"
   ]
  },
  {
   "cell_type": "code",
   "execution_count": 68,
   "metadata": {},
   "outputs": [
    {
     "data": {
      "text/plain": [
       "[]"
      ]
     },
     "execution_count": 68,
     "metadata": {},
     "output_type": "execute_result"
    }
   ],
   "source": [
    "[int(s) for s in str.split(s) if s.isdigit()]"
   ]
  },
  {
   "cell_type": "code",
   "execution_count": 74,
   "metadata": {},
   "outputs": [
    {
     "name": "stdout",
     "output_type": "stream",
     "text": [
      "current_145\n"
     ]
    }
   ],
   "source": [
    "import re\n",
    "s = re.findall(r'\\d+', 'current_145_2.png')[0]\n",
    "print(s)"
   ]
  },
  {
   "cell_type": "code",
   "execution_count": null,
   "metadata": {},
   "outputs": [],
   "source": []
  }
 ],
 "metadata": {
  "kernelspec": {
   "display_name": "Python 3",
   "language": "python",
   "name": "python3"
  },
  "language_info": {
   "codemirror_mode": {
    "name": "ipython",
    "version": 3
   },
   "file_extension": ".py",
   "mimetype": "text/x-python",
   "name": "python",
   "nbconvert_exporter": "python",
   "pygments_lexer": "ipython3",
   "version": "3.7.3"
  }
 },
 "nbformat": 4,
 "nbformat_minor": 2
}
